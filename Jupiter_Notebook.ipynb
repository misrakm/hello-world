{
 "cells": [
  {
   "cell_type": "code",
   "execution_count": 1,
   "id": "85fd50c5-8ba8-4c95-b62f-4307025cb909",
   "metadata": {},
   "outputs": [
    {
     "data": {
      "text/plain": [
       "3"
      ]
     },
     "execution_count": 1,
     "metadata": {},
     "output_type": "execute_result"
    }
   ],
   "source": [
    "1 + 2"
   ]
  },
  {
   "cell_type": "code",
   "execution_count": 3,
   "id": "05aae1f7-01e7-49c3-aa42-f4c1d8d03d9f",
   "metadata": {},
   "outputs": [
    {
     "name": "stdout",
     "output_type": "stream",
     "text": [
      "Hellow World\n"
     ]
    }
   ],
   "source": [
    "print(\"Hellow World\")"
   ]
  },
  {
   "cell_type": "code",
   "execution_count": 6,
   "id": "f2c70b94-10e2-4c1b-8cfc-dd04a3b031dc",
   "metadata": {},
   "outputs": [],
   "source": [
    "t = 'world'"
   ]
  },
  {
   "cell_type": "code",
   "execution_count": 9,
   "id": "d8b1a972-1ef8-4471-a85c-2fb9b2053d98",
   "metadata": {},
   "outputs": [],
   "source": [
    "s = 'Hello'"
   ]
  },
  {
   "cell_type": "code",
   "execution_count": 10,
   "id": "b8701d02-9305-4f56-a20d-507d246e1152",
   "metadata": {},
   "outputs": [
    {
     "name": "stdout",
     "output_type": "stream",
     "text": [
      "Hellow World\n",
      "Hellow World\n",
      "Hellow World\n",
      "Hellow World\n",
      "Hellow World\n",
      "Hellow World\n",
      "Hellow World\n",
      "Hellow World\n",
      "Hellow World\n",
      "Hellow World\n"
     ]
    }
   ],
   "source": [
    "for i in range(10):\n",
    "    print(\"Hellow World\")"
   ]
  },
  {
   "cell_type": "code",
   "execution_count": 11,
   "id": "5df3114b-d59e-4fda-b16b-7d678c9e4614",
   "metadata": {},
   "outputs": [
    {
     "name": "stdout",
     "output_type": "stream",
     "text": [
      "Hello world Today\n",
      "Hello world Today\n",
      "Hello world Today\n",
      "Hello world Today\n",
      "Hello world Today\n",
      "Hello world Today\n",
      "Hello world Today\n",
      "Hello world Today\n",
      "Hello world Today\n",
      "Hello world Today\n"
     ]
    }
   ],
   "source": [
    "for i in range(10):\n",
    "    print(s, t, \"Today\")\n"
   ]
  },
  {
   "cell_type": "code",
   "execution_count": null,
   "id": "4b40a3ba-f8be-4b0a-b5ab-fcd1237fa859",
   "metadata": {},
   "outputs": [],
   "source": []
  }
 ],
 "metadata": {
  "kernelspec": {
   "display_name": "Python 3 (ipykernel)",
   "language": "python",
   "name": "python3"
  },
  "language_info": {
   "codemirror_mode": {
    "name": "ipython",
    "version": 3
   },
   "file_extension": ".py",
   "mimetype": "text/x-python",
   "name": "python",
   "nbconvert_exporter": "python",
   "pygments_lexer": "ipython3",
   "version": "3.12.1"
  }
 },
 "nbformat": 4,
 "nbformat_minor": 5
}
